{
 "cells": [
  {
   "cell_type": "code",
   "execution_count": 1,
   "id": "652079bd",
   "metadata": {},
   "outputs": [],
   "source": [
    "from tqdm.notebook import tqdm\n",
    "%matplotlib inline \n",
    "import numpy as np\n",
    "import pandas as pd\n",
    "import matplotlib.pyplot as plt\n",
    "import seaborn as sns\n",
    "\n",
    "import datetime\n",
    "import matplotlib.font_manager as fm\n",
    "\n",
    "font_name = fm.FontProperties(fname=r\"C:\\Windows\\Fonts\\malgun.ttf\").get_name()\n",
    "plt.rc(\"font\", family=font_name)\n",
    "\n",
    "import matplotlib as mlp\n",
    "mlp.rcParams[\"axes.unicode_minus\"] = False\n",
    "\n",
    "from urllib.request import urlopen\n",
    "from bs4 import BeautifulSoup\n",
    "import requests\n",
    "import time\n",
    "import random\n",
    "from tqdm import tqdm_notebook\n",
    "\n",
    "import folium\n",
    "from IPython.display import display\n",
    "\n",
    "from selenium import webdriver\n",
    "from selenium.webdriver.common.by import By\n",
    "from selenium.webdriver.common.keys import Keys\n",
    "import os\n",
    "import traceback"
   ]
  },
  {
   "cell_type": "markdown",
   "id": "6e34149c",
   "metadata": {},
   "source": [
    "## 서울 어린이집 데이터 불러오기"
   ]
  },
  {
   "cell_type": "code",
   "execution_count": 2,
   "id": "af2412fd",
   "metadata": {},
   "outputs": [],
   "source": [
    "center = pd.read_excel(\"./data/어린이집기본정보조회(비정기)-기준일(20230414).xls\")"
   ]
  },
  {
   "cell_type": "code",
   "execution_count": 3,
   "id": "9721360c",
   "metadata": {
    "scrolled": false
   },
   "outputs": [],
   "source": [
    "# center.head()"
   ]
  },
  {
   "cell_type": "code",
   "execution_count": 4,
   "id": "cf6fd6f0",
   "metadata": {},
   "outputs": [],
   "source": [
    "del center[\"어린이집명\"]\n",
    "del center[\"우편번호\"]\n",
    "del center[\"주소\"]\n",
    "del center[\"어린이집전화번호\"]\n",
    "del center[\"어린이집팩스번호\"]\n",
    "del center[\"보육실수\"]\n",
    "del center[\"정원수\"]\n",
    "del center[\"현원수\"]\n",
    "del center[\"위도\"]\n",
    "del center[\"경도\"]\n",
    "\n",
    "del center[\"운영현황\"]\n",
    "del center[\"보육실면적\"]\n",
    "del center[\"놀이터수\"]\n",
    "del center[\"보육교직원수\"]\n",
    "\n",
    "del center[\"통학차량운영여부\"]\n",
    "del center[\"홈페이지주소\"]\n",
    "del center[\"인가일자\"]\n",
    "del center[\"휴지시작일자\"]\n",
    "del center[\"휴지종료일자\"]"
   ]
  },
  {
   "cell_type": "code",
   "execution_count": 5,
   "id": "43dc009a",
   "metadata": {},
   "outputs": [
    {
     "data": {
      "text/html": [
       "<div>\n",
       "<style scoped>\n",
       "    .dataframe tbody tr th:only-of-type {\n",
       "        vertical-align: middle;\n",
       "    }\n",
       "\n",
       "    .dataframe tbody tr th {\n",
       "        vertical-align: top;\n",
       "    }\n",
       "\n",
       "    .dataframe thead th {\n",
       "        text-align: right;\n",
       "    }\n",
       "</style>\n",
       "<table border=\"1\" class=\"dataframe\">\n",
       "  <thead>\n",
       "    <tr style=\"text-align: right;\">\n",
       "      <th></th>\n",
       "      <th>시도</th>\n",
       "      <th>시군구</th>\n",
       "      <th>어린이집유형구분</th>\n",
       "      <th>폐지일자</th>\n",
       "    </tr>\n",
       "  </thead>\n",
       "  <tbody>\n",
       "    <tr>\n",
       "      <th>0</th>\n",
       "      <td>서울특별시</td>\n",
       "      <td>송파구</td>\n",
       "      <td>법인·단체등</td>\n",
       "      <td>NaN</td>\n",
       "    </tr>\n",
       "    <tr>\n",
       "      <th>1</th>\n",
       "      <td>서울특별시</td>\n",
       "      <td>송파구</td>\n",
       "      <td>민간</td>\n",
       "      <td>2013-05-31</td>\n",
       "    </tr>\n",
       "    <tr>\n",
       "      <th>2</th>\n",
       "      <td>서울특별시</td>\n",
       "      <td>송파구</td>\n",
       "      <td>민간</td>\n",
       "      <td>2012-03-15</td>\n",
       "    </tr>\n",
       "    <tr>\n",
       "      <th>3</th>\n",
       "      <td>서울특별시</td>\n",
       "      <td>성북구</td>\n",
       "      <td>직장</td>\n",
       "      <td>NaN</td>\n",
       "    </tr>\n",
       "    <tr>\n",
       "      <th>4</th>\n",
       "      <td>서울특별시</td>\n",
       "      <td>영등포구</td>\n",
       "      <td>가정</td>\n",
       "      <td>2021-05-27</td>\n",
       "    </tr>\n",
       "    <tr>\n",
       "      <th>...</th>\n",
       "      <td>...</td>\n",
       "      <td>...</td>\n",
       "      <td>...</td>\n",
       "      <td>...</td>\n",
       "    </tr>\n",
       "    <tr>\n",
       "      <th>9393</th>\n",
       "      <td>서울특별시</td>\n",
       "      <td>금천구</td>\n",
       "      <td>가정</td>\n",
       "      <td>NaN</td>\n",
       "    </tr>\n",
       "    <tr>\n",
       "      <th>9394</th>\n",
       "      <td>서울특별시</td>\n",
       "      <td>은평구</td>\n",
       "      <td>가정</td>\n",
       "      <td>2014-06-13</td>\n",
       "    </tr>\n",
       "    <tr>\n",
       "      <th>9395</th>\n",
       "      <td>서울특별시</td>\n",
       "      <td>강남구</td>\n",
       "      <td>협동</td>\n",
       "      <td>NaN</td>\n",
       "    </tr>\n",
       "    <tr>\n",
       "      <th>9396</th>\n",
       "      <td>서울특별시</td>\n",
       "      <td>서초구</td>\n",
       "      <td>민간</td>\n",
       "      <td>2015-07-25</td>\n",
       "    </tr>\n",
       "    <tr>\n",
       "      <th>9397</th>\n",
       "      <td>서울특별시</td>\n",
       "      <td>서대문구</td>\n",
       "      <td>민간</td>\n",
       "      <td>2022-05-02</td>\n",
       "    </tr>\n",
       "  </tbody>\n",
       "</table>\n",
       "<p>9398 rows × 4 columns</p>\n",
       "</div>"
      ],
      "text/plain": [
       "         시도   시군구 어린이집유형구분        폐지일자\n",
       "0     서울특별시   송파구   법인·단체등         NaN\n",
       "1     서울특별시   송파구       민간  2013-05-31\n",
       "2     서울특별시   송파구       민간  2012-03-15\n",
       "3     서울특별시   성북구       직장         NaN\n",
       "4     서울특별시  영등포구       가정  2021-05-27\n",
       "...     ...   ...      ...         ...\n",
       "9393  서울특별시   금천구       가정         NaN\n",
       "9394  서울특별시   은평구       가정  2014-06-13\n",
       "9395  서울특별시   강남구       협동         NaN\n",
       "9396  서울특별시   서초구       민간  2015-07-25\n",
       "9397  서울특별시  서대문구       민간  2022-05-02\n",
       "\n",
       "[9398 rows x 4 columns]"
      ]
     },
     "execution_count": 5,
     "metadata": {},
     "output_type": "execute_result"
    }
   ],
   "source": [
    "center"
   ]
  },
  {
   "cell_type": "code",
   "execution_count": 6,
   "id": "00326d90",
   "metadata": {},
   "outputs": [],
   "source": [
    "center_c = center.dropna()"
   ]
  },
  {
   "cell_type": "code",
   "execution_count": 7,
   "id": "591d7017",
   "metadata": {},
   "outputs": [
    {
     "data": {
      "text/html": [
       "<div>\n",
       "<style scoped>\n",
       "    .dataframe tbody tr th:only-of-type {\n",
       "        vertical-align: middle;\n",
       "    }\n",
       "\n",
       "    .dataframe tbody tr th {\n",
       "        vertical-align: top;\n",
       "    }\n",
       "\n",
       "    .dataframe thead th {\n",
       "        text-align: right;\n",
       "    }\n",
       "</style>\n",
       "<table border=\"1\" class=\"dataframe\">\n",
       "  <thead>\n",
       "    <tr style=\"text-align: right;\">\n",
       "      <th></th>\n",
       "      <th>시도</th>\n",
       "      <th>시군구</th>\n",
       "      <th>어린이집유형구분</th>\n",
       "      <th>폐지일자</th>\n",
       "    </tr>\n",
       "  </thead>\n",
       "  <tbody>\n",
       "    <tr>\n",
       "      <th>1</th>\n",
       "      <td>서울특별시</td>\n",
       "      <td>송파구</td>\n",
       "      <td>민간</td>\n",
       "      <td>2013-05-31</td>\n",
       "    </tr>\n",
       "    <tr>\n",
       "      <th>2</th>\n",
       "      <td>서울특별시</td>\n",
       "      <td>송파구</td>\n",
       "      <td>민간</td>\n",
       "      <td>2012-03-15</td>\n",
       "    </tr>\n",
       "    <tr>\n",
       "      <th>4</th>\n",
       "      <td>서울특별시</td>\n",
       "      <td>영등포구</td>\n",
       "      <td>가정</td>\n",
       "      <td>2021-05-27</td>\n",
       "    </tr>\n",
       "    <tr>\n",
       "      <th>7</th>\n",
       "      <td>서울특별시</td>\n",
       "      <td>관악구</td>\n",
       "      <td>민간</td>\n",
       "      <td>2015-04-01</td>\n",
       "    </tr>\n",
       "    <tr>\n",
       "      <th>9</th>\n",
       "      <td>서울특별시</td>\n",
       "      <td>성동구</td>\n",
       "      <td>민간</td>\n",
       "      <td>2022-03-20</td>\n",
       "    </tr>\n",
       "  </tbody>\n",
       "</table>\n",
       "</div>"
      ],
      "text/plain": [
       "      시도   시군구 어린이집유형구분        폐지일자\n",
       "1  서울특별시   송파구       민간  2013-05-31\n",
       "2  서울특별시   송파구       민간  2012-03-15\n",
       "4  서울특별시  영등포구       가정  2021-05-27\n",
       "7  서울특별시   관악구       민간  2015-04-01\n",
       "9  서울특별시   성동구       민간  2022-03-20"
      ]
     },
     "execution_count": 7,
     "metadata": {},
     "output_type": "execute_result"
    }
   ],
   "source": [
    "center_c.head()"
   ]
  },
  {
   "cell_type": "code",
   "execution_count": 8,
   "id": "a61d06ba",
   "metadata": {},
   "outputs": [
    {
     "name": "stdout",
     "output_type": "stream",
     "text": [
      "<class 'pandas.core.frame.DataFrame'>\n",
      "Int64Index: 4606 entries, 1 to 9397\n",
      "Data columns (total 4 columns):\n",
      " #   Column    Non-Null Count  Dtype \n",
      "---  ------    --------------  ----- \n",
      " 0   시도        4606 non-null   object\n",
      " 1   시군구       4606 non-null   object\n",
      " 2   어린이집유형구분  4606 non-null   object\n",
      " 3   폐지일자      4606 non-null   object\n",
      "dtypes: object(4)\n",
      "memory usage: 179.9+ KB\n"
     ]
    }
   ],
   "source": [
    "center_c.info()"
   ]
  },
  {
   "cell_type": "code",
   "execution_count": 9,
   "id": "207ada95",
   "metadata": {},
   "outputs": [
    {
     "name": "stderr",
     "output_type": "stream",
     "text": [
      "C:\\Users\\acorn\\AppData\\Local\\Temp\\ipykernel_11324\\3256599212.py:2: SettingWithCopyWarning: \n",
      "A value is trying to be set on a copy of a slice from a DataFrame.\n",
      "Try using .loc[row_indexer,col_indexer] = value instead\n",
      "\n",
      "See the caveats in the documentation: https://pandas.pydata.org/pandas-docs/stable/user_guide/indexing.html#returning-a-view-versus-a-copy\n",
      "  center_c[\"폐지일자\"] = pd.to_datetime(center_c[\"폐지일자\"])\n"
     ]
    }
   ],
   "source": [
    "# 폐지일자 날짜 타입으로 변경\n",
    "center_c[\"폐지일자\"] = pd.to_datetime(center_c[\"폐지일자\"])"
   ]
  },
  {
   "cell_type": "code",
   "execution_count": 10,
   "id": "b4fccb84",
   "metadata": {},
   "outputs": [
    {
     "name": "stdout",
     "output_type": "stream",
     "text": [
      "<class 'pandas.core.frame.DataFrame'>\n",
      "Int64Index: 4606 entries, 1 to 9397\n",
      "Data columns (total 4 columns):\n",
      " #   Column    Non-Null Count  Dtype         \n",
      "---  ------    --------------  -----         \n",
      " 0   시도        4606 non-null   object        \n",
      " 1   시군구       4606 non-null   object        \n",
      " 2   어린이집유형구분  4606 non-null   object        \n",
      " 3   폐지일자      4606 non-null   datetime64[ns]\n",
      "dtypes: datetime64[ns](1), object(3)\n",
      "memory usage: 179.9+ KB\n"
     ]
    }
   ],
   "source": [
    "# 타입 변경 확인\n",
    "center_c.info()"
   ]
  },
  {
   "cell_type": "code",
   "execution_count": 11,
   "id": "ab1de17c",
   "metadata": {
    "scrolled": false
   },
   "outputs": [
    {
     "data": {
      "text/html": [
       "<div>\n",
       "<style scoped>\n",
       "    .dataframe tbody tr th:only-of-type {\n",
       "        vertical-align: middle;\n",
       "    }\n",
       "\n",
       "    .dataframe tbody tr th {\n",
       "        vertical-align: top;\n",
       "    }\n",
       "\n",
       "    .dataframe thead th {\n",
       "        text-align: right;\n",
       "    }\n",
       "</style>\n",
       "<table border=\"1\" class=\"dataframe\">\n",
       "  <thead>\n",
       "    <tr style=\"text-align: right;\">\n",
       "      <th></th>\n",
       "      <th>폐지일자</th>\n",
       "    </tr>\n",
       "    <tr>\n",
       "      <th>시군구</th>\n",
       "      <th></th>\n",
       "    </tr>\n",
       "  </thead>\n",
       "  <tbody>\n",
       "    <tr>\n",
       "      <th>강남구</th>\n",
       "      <td>176</td>\n",
       "    </tr>\n",
       "    <tr>\n",
       "      <th>강동구</th>\n",
       "      <td>193</td>\n",
       "    </tr>\n",
       "    <tr>\n",
       "      <th>강북구</th>\n",
       "      <td>124</td>\n",
       "    </tr>\n",
       "    <tr>\n",
       "      <th>강서구</th>\n",
       "      <td>286</td>\n",
       "    </tr>\n",
       "    <tr>\n",
       "      <th>관악구</th>\n",
       "      <td>220</td>\n",
       "    </tr>\n",
       "    <tr>\n",
       "      <th>광진구</th>\n",
       "      <td>146</td>\n",
       "    </tr>\n",
       "    <tr>\n",
       "      <th>구로구</th>\n",
       "      <td>203</td>\n",
       "    </tr>\n",
       "    <tr>\n",
       "      <th>금천구</th>\n",
       "      <td>142</td>\n",
       "    </tr>\n",
       "    <tr>\n",
       "      <th>노원구</th>\n",
       "      <td>350</td>\n",
       "    </tr>\n",
       "    <tr>\n",
       "      <th>도봉구</th>\n",
       "      <td>214</td>\n",
       "    </tr>\n",
       "    <tr>\n",
       "      <th>동대문구</th>\n",
       "      <td>121</td>\n",
       "    </tr>\n",
       "    <tr>\n",
       "      <th>동작구</th>\n",
       "      <td>153</td>\n",
       "    </tr>\n",
       "    <tr>\n",
       "      <th>마포구</th>\n",
       "      <td>186</td>\n",
       "    </tr>\n",
       "    <tr>\n",
       "      <th>서대문구</th>\n",
       "      <td>142</td>\n",
       "    </tr>\n",
       "    <tr>\n",
       "      <th>서초구</th>\n",
       "      <td>164</td>\n",
       "    </tr>\n",
       "    <tr>\n",
       "      <th>성동구</th>\n",
       "      <td>117</td>\n",
       "    </tr>\n",
       "    <tr>\n",
       "      <th>성북구</th>\n",
       "      <td>259</td>\n",
       "    </tr>\n",
       "    <tr>\n",
       "      <th>송파구</th>\n",
       "      <td>347</td>\n",
       "    </tr>\n",
       "    <tr>\n",
       "      <th>양천구</th>\n",
       "      <td>240</td>\n",
       "    </tr>\n",
       "    <tr>\n",
       "      <th>영등포구</th>\n",
       "      <td>196</td>\n",
       "    </tr>\n",
       "    <tr>\n",
       "      <th>용산구</th>\n",
       "      <td>73</td>\n",
       "    </tr>\n",
       "    <tr>\n",
       "      <th>은평구</th>\n",
       "      <td>307</td>\n",
       "    </tr>\n",
       "    <tr>\n",
       "      <th>종로구</th>\n",
       "      <td>47</td>\n",
       "    </tr>\n",
       "    <tr>\n",
       "      <th>중구</th>\n",
       "      <td>24</td>\n",
       "    </tr>\n",
       "    <tr>\n",
       "      <th>중랑구</th>\n",
       "      <td>176</td>\n",
       "    </tr>\n",
       "  </tbody>\n",
       "</table>\n",
       "</div>"
      ],
      "text/plain": [
       "      폐지일자\n",
       "시군구       \n",
       "강남구    176\n",
       "강동구    193\n",
       "강북구    124\n",
       "강서구    286\n",
       "관악구    220\n",
       "광진구    146\n",
       "구로구    203\n",
       "금천구    142\n",
       "노원구    350\n",
       "도봉구    214\n",
       "동대문구   121\n",
       "동작구    153\n",
       "마포구    186\n",
       "서대문구   142\n",
       "서초구    164\n",
       "성동구    117\n",
       "성북구    259\n",
       "송파구    347\n",
       "양천구    240\n",
       "영등포구   196\n",
       "용산구     73\n",
       "은평구    307\n",
       "종로구     47\n",
       "중구      24\n",
       "중랑구    176"
      ]
     },
     "execution_count": 11,
     "metadata": {},
     "output_type": "execute_result"
    }
   ],
   "source": [
    "# 폐지일자가 있는 수를 구별로 카운트\n",
    "center_c.groupby(\"시군구\")[[\"폐지일자\"]].count()"
   ]
  },
  {
   "cell_type": "code",
   "execution_count": 12,
   "id": "30306489",
   "metadata": {},
   "outputs": [],
   "source": [
    "# 일자 순으로 정렬\n",
    "center_c = center_c.sort_values(\"폐지일자\")"
   ]
  },
  {
   "cell_type": "code",
   "execution_count": 13,
   "id": "146dc0db",
   "metadata": {},
   "outputs": [
    {
     "data": {
      "text/html": [
       "<div>\n",
       "<style scoped>\n",
       "    .dataframe tbody tr th:only-of-type {\n",
       "        vertical-align: middle;\n",
       "    }\n",
       "\n",
       "    .dataframe tbody tr th {\n",
       "        vertical-align: top;\n",
       "    }\n",
       "\n",
       "    .dataframe thead th {\n",
       "        text-align: right;\n",
       "    }\n",
       "</style>\n",
       "<table border=\"1\" class=\"dataframe\">\n",
       "  <thead>\n",
       "    <tr style=\"text-align: right;\">\n",
       "      <th></th>\n",
       "      <th>시도</th>\n",
       "      <th>시군구</th>\n",
       "      <th>어린이집유형구분</th>\n",
       "      <th>폐지일자</th>\n",
       "    </tr>\n",
       "  </thead>\n",
       "  <tbody>\n",
       "    <tr>\n",
       "      <th>7745</th>\n",
       "      <td>서울특별시</td>\n",
       "      <td>강남구</td>\n",
       "      <td>민간</td>\n",
       "      <td>1990-09-20</td>\n",
       "    </tr>\n",
       "    <tr>\n",
       "      <th>7415</th>\n",
       "      <td>서울특별시</td>\n",
       "      <td>동작구</td>\n",
       "      <td>가정</td>\n",
       "      <td>1993-12-15</td>\n",
       "    </tr>\n",
       "    <tr>\n",
       "      <th>1867</th>\n",
       "      <td>서울특별시</td>\n",
       "      <td>동작구</td>\n",
       "      <td>국공립</td>\n",
       "      <td>1996-01-31</td>\n",
       "    </tr>\n",
       "    <tr>\n",
       "      <th>4005</th>\n",
       "      <td>서울특별시</td>\n",
       "      <td>동작구</td>\n",
       "      <td>가정</td>\n",
       "      <td>1996-02-15</td>\n",
       "    </tr>\n",
       "    <tr>\n",
       "      <th>5702</th>\n",
       "      <td>서울특별시</td>\n",
       "      <td>마포구</td>\n",
       "      <td>가정</td>\n",
       "      <td>1996-12-17</td>\n",
       "    </tr>\n",
       "  </tbody>\n",
       "</table>\n",
       "</div>"
      ],
      "text/plain": [
       "         시도  시군구 어린이집유형구분       폐지일자\n",
       "7745  서울특별시  강남구       민간 1990-09-20\n",
       "7415  서울특별시  동작구       가정 1993-12-15\n",
       "1867  서울특별시  동작구      국공립 1996-01-31\n",
       "4005  서울특별시  동작구       가정 1996-02-15\n",
       "5702  서울특별시  마포구       가정 1996-12-17"
      ]
     },
     "execution_count": 13,
     "metadata": {},
     "output_type": "execute_result"
    }
   ],
   "source": [
    "center_c.head()"
   ]
  },
  {
   "cell_type": "code",
   "execution_count": 14,
   "id": "67fe2bba",
   "metadata": {},
   "outputs": [
    {
     "name": "stdout",
     "output_type": "stream",
     "text": [
      "datetime64[ns]\n"
     ]
    }
   ],
   "source": [
    "# 타입 한번 더 확인\n",
    "print(center_c[\"폐지일자\"].dtype)"
   ]
  },
  {
   "cell_type": "markdown",
   "id": "a783314f",
   "metadata": {},
   "source": [
    "## 연도별 어린이집 폐지 수\n",
    "\n",
    "- 데이터 내 첫 폐지 연도인 1990년으로 시작"
   ]
  },
  {
   "cell_type": "code",
   "execution_count": 15,
   "id": "186bc3f4",
   "metadata": {},
   "outputs": [],
   "source": [
    "y = [\"1990\", \"1991\", \"1993\", \"1994\", \"1995\", \"1996\", \"1997\", \"1998\", \"1999\", \n",
    "     \"2000\", \"2001\", \"2002\", \"2003\", \"2004\", \"2005\", \"2006\", \"2007\", \"2008\", \"2009\",\n",
    "     \"2010\", \"2011\", \"2012\", \"2013\", \"2014\", \"2015\", \"2016\", \"2017\", \"2018\", \"2019\",\n",
    "     \"2020\", \"2021\", \"2022\", \"2023\"]"
   ]
  },
  {
   "cell_type": "code",
   "execution_count": 16,
   "id": "1044d454",
   "metadata": {
    "scrolled": false
   },
   "outputs": [
    {
     "name": "stdout",
     "output_type": "stream",
     "text": [
      "1990년 폐지 수 : 1\n",
      "1991년 폐지 수 : 0\n",
      "1993년 폐지 수 : 1\n",
      "1994년 폐지 수 : 0\n",
      "1995년 폐지 수 : 0\n",
      "1996년 폐지 수 : 3\n",
      "1997년 폐지 수 : 3\n",
      "1998년 폐지 수 : 4\n",
      "1999년 폐지 수 : 7\n",
      "2000년 폐지 수 : 4\n",
      "2001년 폐지 수 : 0\n",
      "2002년 폐지 수 : 0\n",
      "2003년 폐지 수 : 2\n",
      "2004년 폐지 수 : 2\n",
      "2005년 폐지 수 : 1\n",
      "2006년 폐지 수 : 1\n",
      "2007년 폐지 수 : 20\n",
      "2008년 폐지 수 : 98\n",
      "2009년 폐지 수 : 145\n",
      "2010년 폐지 수 : 117\n",
      "2011년 폐지 수 : 127\n",
      "2012년 폐지 수 : 105\n",
      "2013년 폐지 수 : 125\n",
      "2014년 폐지 수 : 179\n",
      "2015년 폐지 수 : 261\n",
      "2016년 폐지 수 : 417\n",
      "2017년 폐지 수 : 402\n",
      "2018년 폐지 수 : 494\n",
      "2019년 폐지 수 : 537\n",
      "2020년 폐지 수 : 527\n",
      "2021년 폐지 수 : 408\n",
      "2022년 폐지 수 : 421\n",
      "2023년 폐지 수 : 194\n"
     ]
    }
   ],
   "source": [
    "for i in range(0, len(y)):\n",
    "    print(f\"{y[i]}년 폐지 수 :\", center_c.loc[center_c[\"폐지일자\"].between(f\"{y[i]}-01-01\", f\"{y[i]}-12-31\")].count()[3])"
   ]
  },
  {
   "cell_type": "code",
   "execution_count": null,
   "id": "f9e30c52",
   "metadata": {},
   "outputs": [],
   "source": []
  },
  {
   "cell_type": "code",
   "execution_count": null,
   "id": "ea0586ab",
   "metadata": {},
   "outputs": [],
   "source": []
  },
  {
   "cell_type": "markdown",
   "id": "e99ac674",
   "metadata": {},
   "source": [
    "## 서울 포함 전국 비교"
   ]
  },
  {
   "cell_type": "code",
   "execution_count": 17,
   "id": "71d12685",
   "metadata": {},
   "outputs": [],
   "source": [
    "center = pd.read_excel(\"./data/어린이집기본정보조회(비정기)-기준일(20230414).xls\")"
   ]
  },
  {
   "cell_type": "code",
   "execution_count": 18,
   "id": "a547edbf",
   "metadata": {},
   "outputs": [],
   "source": [
    "center1 = pd.read_excel(\"./data/어린이집기본정보조회(비정기)-기준일(20230414) (1).xls\")"
   ]
  },
  {
   "cell_type": "code",
   "execution_count": 19,
   "id": "fad0926d",
   "metadata": {},
   "outputs": [],
   "source": [
    "center2 = pd.read_excel(\"./data/어린이집기본정보조회(비정기)-기준일(20230414) (2).xls\")"
   ]
  },
  {
   "cell_type": "code",
   "execution_count": 20,
   "id": "69930148",
   "metadata": {},
   "outputs": [],
   "source": [
    "center3 = pd.read_excel(\"./data/어린이집기본정보조회(비정기)-기준일(20230414) (3).xls\")"
   ]
  },
  {
   "cell_type": "code",
   "execution_count": 21,
   "id": "58b7708b",
   "metadata": {},
   "outputs": [],
   "source": [
    "center4 = pd.read_excel(\"./data/어린이집기본정보조회(비정기)-기준일(20230414) (4).xls\")"
   ]
  },
  {
   "cell_type": "code",
   "execution_count": 22,
   "id": "c3c24d23",
   "metadata": {},
   "outputs": [],
   "source": [
    "center5 = pd.read_excel(\"./data/어린이집기본정보조회(비정기)-기준일(20230414) (5).xls\")"
   ]
  },
  {
   "cell_type": "code",
   "execution_count": 23,
   "id": "7abddfd6",
   "metadata": {},
   "outputs": [],
   "source": [
    "center6 = pd.read_excel(\"./data/어린이집기본정보조회(비정기)-기준일(20230414) (6).xls\")"
   ]
  },
  {
   "cell_type": "code",
   "execution_count": 24,
   "id": "80cfeae0",
   "metadata": {},
   "outputs": [],
   "source": [
    "center7 = pd.read_excel(\"./data/어린이집기본정보조회(비정기)-기준일(20230414) (7).xls\")"
   ]
  },
  {
   "cell_type": "code",
   "execution_count": 25,
   "id": "14c7d59a",
   "metadata": {},
   "outputs": [],
   "source": [
    "center8 = pd.read_excel(\"./data/어린이집기본정보조회(비정기)-기준일(20230414) (8).xls\")"
   ]
  },
  {
   "cell_type": "code",
   "execution_count": 26,
   "id": "80acf8d8",
   "metadata": {},
   "outputs": [],
   "source": [
    "center9 = pd.read_excel(\"./data/어린이집기본정보조회(비정기)-기준일(20230414) (9).xls\")"
   ]
  },
  {
   "cell_type": "code",
   "execution_count": 27,
   "id": "8470c827",
   "metadata": {},
   "outputs": [],
   "source": [
    "center10 = pd.read_excel(\"./data/어린이집기본정보조회(비정기)-기준일(20230414) (10).xls\")"
   ]
  },
  {
   "cell_type": "code",
   "execution_count": 28,
   "id": "153f33d4",
   "metadata": {},
   "outputs": [],
   "source": [
    "center11 = pd.read_excel(\"./data/어린이집기본정보조회(비정기)-기준일(20230414) (11).xls\")"
   ]
  },
  {
   "cell_type": "code",
   "execution_count": 29,
   "id": "2a5654a4",
   "metadata": {},
   "outputs": [],
   "source": [
    "center12 = pd.read_excel(\"./data/어린이집기본정보조회(비정기)-기준일(20230414) (12).xls\")"
   ]
  },
  {
   "cell_type": "code",
   "execution_count": 30,
   "id": "b0fc2d9c",
   "metadata": {},
   "outputs": [],
   "source": [
    "center13 = pd.read_excel(\"./data/어린이집기본정보조회(비정기)-기준일(20230414) (13).xls\")"
   ]
  },
  {
   "cell_type": "code",
   "execution_count": 31,
   "id": "21ecb568",
   "metadata": {},
   "outputs": [],
   "source": [
    "center14 = pd.read_excel(\"./data/어린이집기본정보조회(비정기)-기준일(20230414) (14).xls\")"
   ]
  },
  {
   "cell_type": "code",
   "execution_count": 32,
   "id": "41629d38",
   "metadata": {},
   "outputs": [],
   "source": [
    "center15 = pd.read_excel(\"./data/어린이집기본정보조회(비정기)-기준일(20230414) (15).xls\")"
   ]
  },
  {
   "cell_type": "code",
   "execution_count": 33,
   "id": "95ad9592",
   "metadata": {},
   "outputs": [],
   "source": [
    "center16 = pd.read_excel(\"./data/어린이집기본정보조회(비정기)-기준일(20230414) (16).xls\")"
   ]
  },
  {
   "cell_type": "code",
   "execution_count": 34,
   "id": "b52f168e",
   "metadata": {},
   "outputs": [],
   "source": [
    "center_total = pd.concat([center, center1, center2, center3, center4, center5, center6, center7, center8, center9, center10, center11, center12, center13, center14, center15, center16])"
   ]
  },
  {
   "cell_type": "code",
   "execution_count": 35,
   "id": "eca39be7",
   "metadata": {
    "scrolled": true
   },
   "outputs": [
    {
     "data": {
      "text/html": [
       "<div>\n",
       "<style scoped>\n",
       "    .dataframe tbody tr th:only-of-type {\n",
       "        vertical-align: middle;\n",
       "    }\n",
       "\n",
       "    .dataframe tbody tr th {\n",
       "        vertical-align: top;\n",
       "    }\n",
       "\n",
       "    .dataframe thead th {\n",
       "        text-align: right;\n",
       "    }\n",
       "</style>\n",
       "<table border=\"1\" class=\"dataframe\">\n",
       "  <thead>\n",
       "    <tr style=\"text-align: right;\">\n",
       "      <th></th>\n",
       "      <th>시도</th>\n",
       "      <th>시군구</th>\n",
       "      <th>어린이집명</th>\n",
       "      <th>어린이집유형구분</th>\n",
       "      <th>운영현황</th>\n",
       "      <th>우편번호</th>\n",
       "      <th>주소</th>\n",
       "      <th>어린이집전화번호</th>\n",
       "      <th>어린이집팩스번호</th>\n",
       "      <th>보육실수</th>\n",
       "      <th>...</th>\n",
       "      <th>정원수</th>\n",
       "      <th>현원수</th>\n",
       "      <th>위도</th>\n",
       "      <th>경도</th>\n",
       "      <th>통학차량운영여부</th>\n",
       "      <th>홈페이지주소</th>\n",
       "      <th>인가일자</th>\n",
       "      <th>휴지시작일자</th>\n",
       "      <th>휴지종료일자</th>\n",
       "      <th>폐지일자</th>\n",
       "    </tr>\n",
       "  </thead>\n",
       "  <tbody>\n",
       "    <tr>\n",
       "      <th>0</th>\n",
       "      <td>서울특별시</td>\n",
       "      <td>송파구</td>\n",
       "      <td>(재)천주교서울대교구유지재단천사어린이집</td>\n",
       "      <td>법인·단체등</td>\n",
       "      <td>정상</td>\n",
       "      <td>5753.0</td>\n",
       "      <td>서울특별시 송파구 거마로24길 11 (마천동)</td>\n",
       "      <td>02-409-1406</td>\n",
       "      <td>02-409-1507</td>\n",
       "      <td>5</td>\n",
       "      <td>...</td>\n",
       "      <td>61</td>\n",
       "      <td>48</td>\n",
       "      <td>37.499314</td>\n",
       "      <td>127.149096</td>\n",
       "      <td>미운영</td>\n",
       "      <td>http://cafe.daum.net/angel1406</td>\n",
       "      <td>2006-04-27</td>\n",
       "      <td>NaN</td>\n",
       "      <td>NaN</td>\n",
       "      <td>NaN</td>\n",
       "    </tr>\n",
       "    <tr>\n",
       "      <th>1</th>\n",
       "      <td>서울특별시</td>\n",
       "      <td>송파구</td>\n",
       "      <td>0세교육어린이집</td>\n",
       "      <td>민간</td>\n",
       "      <td>폐지</td>\n",
       "      <td>5694.0</td>\n",
       "      <td>서울특별시 송파구 송파대로37길 90</td>\n",
       "      <td>02-416-2223</td>\n",
       "      <td>--</td>\n",
       "      <td>3</td>\n",
       "      <td>...</td>\n",
       "      <td>21</td>\n",
       "      <td>0</td>\n",
       "      <td>37.498939</td>\n",
       "      <td>127.102530</td>\n",
       "      <td>미운영</td>\n",
       "      <td>NaN</td>\n",
       "      <td>1999-04-20</td>\n",
       "      <td>NaN</td>\n",
       "      <td>NaN</td>\n",
       "      <td>2013-05-31</td>\n",
       "    </tr>\n",
       "    <tr>\n",
       "      <th>2</th>\n",
       "      <td>서울특별시</td>\n",
       "      <td>송파구</td>\n",
       "      <td>0세아카데미어린이집</td>\n",
       "      <td>민간</td>\n",
       "      <td>폐지</td>\n",
       "      <td>5600.0</td>\n",
       "      <td>서울특별시 송파구 백제고분로21길 24 (삼전동)</td>\n",
       "      <td>02-2202-4921</td>\n",
       "      <td>02-420-6903</td>\n",
       "      <td>5</td>\n",
       "      <td>...</td>\n",
       "      <td>39</td>\n",
       "      <td>0</td>\n",
       "      <td>37.505872</td>\n",
       "      <td>127.090868</td>\n",
       "      <td>NaN</td>\n",
       "      <td>http://cafe.daum.net/wyskindergaten</td>\n",
       "      <td>1996-02-16</td>\n",
       "      <td>NaN</td>\n",
       "      <td>NaN</td>\n",
       "      <td>2012-03-15</td>\n",
       "    </tr>\n",
       "    <tr>\n",
       "      <th>3</th>\n",
       "      <td>서울특별시</td>\n",
       "      <td>성북구</td>\n",
       "      <td>101경비단 어린이집</td>\n",
       "      <td>직장</td>\n",
       "      <td>정상</td>\n",
       "      <td>2812.0</td>\n",
       "      <td>서울특별시 성북구 정릉로10라길 18-5</td>\n",
       "      <td>02-911-2101</td>\n",
       "      <td>02-909-4101</td>\n",
       "      <td>10</td>\n",
       "      <td>...</td>\n",
       "      <td>100</td>\n",
       "      <td>30</td>\n",
       "      <td>37.605560</td>\n",
       "      <td>126.999434</td>\n",
       "      <td>미운영</td>\n",
       "      <td>https://www.puruni.com/smpa101</td>\n",
       "      <td>2022-03-07</td>\n",
       "      <td>NaN</td>\n",
       "      <td>NaN</td>\n",
       "      <td>NaN</td>\n",
       "    </tr>\n",
       "    <tr>\n",
       "      <th>4</th>\n",
       "      <td>서울특별시</td>\n",
       "      <td>영등포구</td>\n",
       "      <td>123목화어린이집</td>\n",
       "      <td>가정</td>\n",
       "      <td>폐지</td>\n",
       "      <td>7385.0</td>\n",
       "      <td>서울특별시 영등포구 신길로45길 4-2</td>\n",
       "      <td>02-849-9111</td>\n",
       "      <td>02-849-9112</td>\n",
       "      <td>3</td>\n",
       "      <td>...</td>\n",
       "      <td>16</td>\n",
       "      <td>0</td>\n",
       "      <td>37.509624</td>\n",
       "      <td>126.910143</td>\n",
       "      <td>미운영</td>\n",
       "      <td>NaN</td>\n",
       "      <td>2012-12-05</td>\n",
       "      <td>NaN</td>\n",
       "      <td>NaN</td>\n",
       "      <td>2021-05-27</td>\n",
       "    </tr>\n",
       "    <tr>\n",
       "      <th>...</th>\n",
       "      <td>...</td>\n",
       "      <td>...</td>\n",
       "      <td>...</td>\n",
       "      <td>...</td>\n",
       "      <td>...</td>\n",
       "      <td>...</td>\n",
       "      <td>...</td>\n",
       "      <td>...</td>\n",
       "      <td>...</td>\n",
       "      <td>...</td>\n",
       "      <td>...</td>\n",
       "      <td>...</td>\n",
       "      <td>...</td>\n",
       "      <td>...</td>\n",
       "      <td>...</td>\n",
       "      <td>...</td>\n",
       "      <td>...</td>\n",
       "      <td>...</td>\n",
       "      <td>...</td>\n",
       "      <td>...</td>\n",
       "      <td>...</td>\n",
       "    </tr>\n",
       "    <tr>\n",
       "      <th>17560</th>\n",
       "      <td>경기도</td>\n",
       "      <td>수원시영통구</td>\n",
       "      <td>힐스행복어린이집</td>\n",
       "      <td>가정</td>\n",
       "      <td>정상</td>\n",
       "      <td>16685.0</td>\n",
       "      <td>경기도 수원시 영통구 덕영대로 1462-14 115동 103호(망포동, 힐스테이트영통)</td>\n",
       "      <td>031-203-9930</td>\n",
       "      <td>--</td>\n",
       "      <td>3</td>\n",
       "      <td>...</td>\n",
       "      <td>20</td>\n",
       "      <td>19</td>\n",
       "      <td>37.241680</td>\n",
       "      <td>127.047114</td>\n",
       "      <td>미운영</td>\n",
       "      <td>NaN</td>\n",
       "      <td>2017-10-25</td>\n",
       "      <td>NaN</td>\n",
       "      <td>NaN</td>\n",
       "      <td>NaN</td>\n",
       "    </tr>\n",
       "    <tr>\n",
       "      <th>17561</th>\n",
       "      <td>경기도</td>\n",
       "      <td>남양주시</td>\n",
       "      <td>힐즈파크어린이집</td>\n",
       "      <td>민간</td>\n",
       "      <td>폐지</td>\n",
       "      <td>12177.0</td>\n",
       "      <td>경기도 남양주시 화도읍 비룡로33번길 25 힐즈파크어린이집(힐즈파크푸르지오)</td>\n",
       "      <td>031-511-7795</td>\n",
       "      <td>0504-360-7210</td>\n",
       "      <td>6</td>\n",
       "      <td>...</td>\n",
       "      <td>78</td>\n",
       "      <td>0</td>\n",
       "      <td>37.655268</td>\n",
       "      <td>127.297935</td>\n",
       "      <td>미운영</td>\n",
       "      <td>NaN</td>\n",
       "      <td>2018-05-18</td>\n",
       "      <td>NaN</td>\n",
       "      <td>NaN</td>\n",
       "      <td>2020-04-01</td>\n",
       "    </tr>\n",
       "    <tr>\n",
       "      <th>17562</th>\n",
       "      <td>경기도</td>\n",
       "      <td>남양주시</td>\n",
       "      <td>힘멜에듀센터어린이집</td>\n",
       "      <td>민간</td>\n",
       "      <td>폐지</td>\n",
       "      <td>12208.0</td>\n",
       "      <td>경기도 남양주시 와부읍 덕소로97번길 69</td>\n",
       "      <td>031-576-6777</td>\n",
       "      <td>031-576-6776</td>\n",
       "      <td>8</td>\n",
       "      <td>...</td>\n",
       "      <td>115</td>\n",
       "      <td>0</td>\n",
       "      <td>37.589196</td>\n",
       "      <td>127.220481</td>\n",
       "      <td>운영</td>\n",
       "      <td>NaN</td>\n",
       "      <td>2008-03-05</td>\n",
       "      <td>NaN</td>\n",
       "      <td>NaN</td>\n",
       "      <td>2020-03-03</td>\n",
       "    </tr>\n",
       "    <tr>\n",
       "      <th>17563</th>\n",
       "      <td>경기도</td>\n",
       "      <td>수원시권선구</td>\n",
       "      <td>힘찬어린이집</td>\n",
       "      <td>가정</td>\n",
       "      <td>폐지</td>\n",
       "      <td>16594.0</td>\n",
       "      <td>경기도 수원시 권선구 덕영대로997번길 47 양천연립101호 (세류동)</td>\n",
       "      <td>031-223-7303</td>\n",
       "      <td>031-624-0618</td>\n",
       "      <td>3</td>\n",
       "      <td>...</td>\n",
       "      <td>15</td>\n",
       "      <td>0</td>\n",
       "      <td>37.259001</td>\n",
       "      <td>127.006704</td>\n",
       "      <td>운영</td>\n",
       "      <td>NaN</td>\n",
       "      <td>2008-10-10</td>\n",
       "      <td>NaN</td>\n",
       "      <td>NaN</td>\n",
       "      <td>2015-03-25</td>\n",
       "    </tr>\n",
       "    <tr>\n",
       "      <th>17564</th>\n",
       "      <td>경기도</td>\n",
       "      <td>용인시수지구</td>\n",
       "      <td>힘찬어린이집</td>\n",
       "      <td>민간</td>\n",
       "      <td>정상</td>\n",
       "      <td>16881.0</td>\n",
       "      <td>경기도 용인시 수지구 대지로 152 남곡빌딩 나/102(죽전1동)</td>\n",
       "      <td>031-265-5735</td>\n",
       "      <td>031-265-5736</td>\n",
       "      <td>10</td>\n",
       "      <td>...</td>\n",
       "      <td>183</td>\n",
       "      <td>78</td>\n",
       "      <td>37.329362</td>\n",
       "      <td>127.125552</td>\n",
       "      <td>운영</td>\n",
       "      <td>NaN</td>\n",
       "      <td>2015-01-29</td>\n",
       "      <td>NaN</td>\n",
       "      <td>NaN</td>\n",
       "      <td>NaN</td>\n",
       "    </tr>\n",
       "  </tbody>\n",
       "</table>\n",
       "<p>58681 rows × 23 columns</p>\n",
       "</div>"
      ],
      "text/plain": [
       "          시도     시군구                  어린이집명 어린이집유형구분 운영현황     우편번호  \\\n",
       "0      서울특별시     송파구  (재)천주교서울대교구유지재단천사어린이집   법인·단체등   정상   5753.0   \n",
       "1      서울특별시     송파구               0세교육어린이집       민간   폐지   5694.0   \n",
       "2      서울특별시     송파구             0세아카데미어린이집       민간   폐지   5600.0   \n",
       "3      서울특별시     성북구            101경비단 어린이집       직장   정상   2812.0   \n",
       "4      서울특별시    영등포구              123목화어린이집       가정   폐지   7385.0   \n",
       "...      ...     ...                    ...      ...  ...      ...   \n",
       "17560    경기도  수원시영통구               힐스행복어린이집       가정   정상  16685.0   \n",
       "17561    경기도    남양주시               힐즈파크어린이집       민간   폐지  12177.0   \n",
       "17562    경기도    남양주시             힘멜에듀센터어린이집       민간   폐지  12208.0   \n",
       "17563    경기도  수원시권선구                 힘찬어린이집       가정   폐지  16594.0   \n",
       "17564    경기도  용인시수지구                 힘찬어린이집       민간   정상  16881.0   \n",
       "\n",
       "                                                     주소      어린이집전화번호  \\\n",
       "0                             서울특별시 송파구 거마로24길 11 (마천동)   02-409-1406   \n",
       "1                                 서울특별시 송파구 송파대로37길 90    02-416-2223   \n",
       "2                           서울특별시 송파구 백제고분로21길 24 (삼전동)  02-2202-4921   \n",
       "3                               서울특별시 성북구 정릉로10라길 18-5    02-911-2101   \n",
       "4                                서울특별시 영등포구 신길로45길 4-2    02-849-9111   \n",
       "...                                                 ...           ...   \n",
       "17560  경기도 수원시 영통구 덕영대로 1462-14 115동 103호(망포동, 힐스테이트영통)  031-203-9930   \n",
       "17561        경기도 남양주시 화도읍 비룡로33번길 25 힐즈파크어린이집(힐즈파크푸르지오)  031-511-7795   \n",
       "17562                          경기도 남양주시 와부읍 덕소로97번길 69   031-576-6777   \n",
       "17563           경기도 수원시 권선구 덕영대로997번길 47 양천연립101호 (세류동)  031-223-7303   \n",
       "17564              경기도 용인시 수지구 대지로 152 남곡빌딩 나/102(죽전1동)  031-265-5735   \n",
       "\n",
       "            어린이집팩스번호  보육실수  ...  정원수  현원수         위도          경도  통학차량운영여부  \\\n",
       "0        02-409-1507     5  ...   61   48  37.499314  127.149096       미운영   \n",
       "1                 --     3  ...   21    0  37.498939  127.102530       미운영   \n",
       "2        02-420-6903     5  ...   39    0  37.505872  127.090868       NaN   \n",
       "3        02-909-4101    10  ...  100   30  37.605560  126.999434       미운영   \n",
       "4        02-849-9112     3  ...   16    0  37.509624  126.910143       미운영   \n",
       "...              ...   ...  ...  ...  ...        ...         ...       ...   \n",
       "17560             --     3  ...   20   19  37.241680  127.047114       미운영   \n",
       "17561  0504-360-7210     6  ...   78    0  37.655268  127.297935       미운영   \n",
       "17562   031-576-6776     8  ...  115    0  37.589196  127.220481        운영   \n",
       "17563   031-624-0618     3  ...   15    0  37.259001  127.006704        운영   \n",
       "17564   031-265-5736    10  ...  183   78  37.329362  127.125552        운영   \n",
       "\n",
       "                                    홈페이지주소        인가일자 휴지시작일자 휴지종료일자  \\\n",
       "0           http://cafe.daum.net/angel1406  2006-04-27    NaN    NaN   \n",
       "1                                      NaN  1999-04-20    NaN    NaN   \n",
       "2      http://cafe.daum.net/wyskindergaten  1996-02-16    NaN    NaN   \n",
       "3           https://www.puruni.com/smpa101  2022-03-07    NaN    NaN   \n",
       "4                                      NaN  2012-12-05    NaN    NaN   \n",
       "...                                    ...         ...    ...    ...   \n",
       "17560                                  NaN  2017-10-25    NaN    NaN   \n",
       "17561                                  NaN  2018-05-18    NaN    NaN   \n",
       "17562                                  NaN  2008-03-05    NaN    NaN   \n",
       "17563                                  NaN  2008-10-10    NaN    NaN   \n",
       "17564                                  NaN  2015-01-29    NaN    NaN   \n",
       "\n",
       "             폐지일자  \n",
       "0             NaN  \n",
       "1      2013-05-31  \n",
       "2      2012-03-15  \n",
       "3             NaN  \n",
       "4      2021-05-27  \n",
       "...           ...  \n",
       "17560         NaN  \n",
       "17561  2020-04-01  \n",
       "17562  2020-03-03  \n",
       "17563  2015-03-25  \n",
       "17564         NaN  \n",
       "\n",
       "[58681 rows x 23 columns]"
      ]
     },
     "execution_count": 35,
     "metadata": {},
     "output_type": "execute_result"
    }
   ],
   "source": [
    "center_total"
   ]
  },
  {
   "cell_type": "code",
   "execution_count": 36,
   "id": "8dc5bae5",
   "metadata": {},
   "outputs": [],
   "source": [
    "del center_total[\"어린이집명\"]\n",
    "del center_total[\"우편번호\"]\n",
    "del center_total[\"주소\"]\n",
    "del center_total[\"어린이집전화번호\"]\n",
    "del center_total[\"어린이집팩스번호\"]\n",
    "del center_total[\"보육실수\"]\n",
    "del center_total[\"정원수\"]\n",
    "del center_total[\"현원수\"]\n",
    "del center_total[\"위도\"]\n",
    "del center_total[\"경도\"]\n",
    "\n",
    "del center_total[\"운영현황\"]\n",
    "del center_total[\"보육실면적\"]\n",
    "del center_total[\"놀이터수\"]\n",
    "del center_total[\"보육교직원수\"]\n",
    "\n",
    "del center_total[\"통학차량운영여부\"]\n",
    "del center_total[\"홈페이지주소\"]\n",
    "del center_total[\"인가일자\"]\n",
    "del center_total[\"휴지시작일자\"]\n",
    "del center_total[\"휴지종료일자\"]"
   ]
  },
  {
   "cell_type": "code",
   "execution_count": 37,
   "id": "95ffc379",
   "metadata": {},
   "outputs": [
    {
     "name": "stdout",
     "output_type": "stream",
     "text": [
      "<class 'pandas.core.frame.DataFrame'>\n",
      "Int64Index: 58681 entries, 0 to 17564\n",
      "Data columns (total 4 columns):\n",
      " #   Column    Non-Null Count  Dtype \n",
      "---  ------    --------------  ----- \n",
      " 0   시도        58681 non-null  object\n",
      " 1   시군구       58681 non-null  object\n",
      " 2   어린이집유형구분  58681 non-null  object\n",
      " 3   폐지일자      27900 non-null  object\n",
      "dtypes: object(4)\n",
      "memory usage: 2.2+ MB\n"
     ]
    }
   ],
   "source": [
    "center_total.info()"
   ]
  },
  {
   "cell_type": "code",
   "execution_count": 38,
   "id": "e82cf7e3",
   "metadata": {},
   "outputs": [],
   "source": [
    "center_total = center_total.dropna()"
   ]
  },
  {
   "cell_type": "code",
   "execution_count": 39,
   "id": "a7051912",
   "metadata": {},
   "outputs": [
    {
     "name": "stderr",
     "output_type": "stream",
     "text": [
      "C:\\Users\\acorn\\AppData\\Local\\Temp\\ipykernel_11324\\2909686630.py:1: SettingWithCopyWarning: \n",
      "A value is trying to be set on a copy of a slice from a DataFrame.\n",
      "Try using .loc[row_indexer,col_indexer] = value instead\n",
      "\n",
      "See the caveats in the documentation: https://pandas.pydata.org/pandas-docs/stable/user_guide/indexing.html#returning-a-view-versus-a-copy\n",
      "  center_total[\"폐지일자\"] = pd.to_datetime(center_total[\"폐지일자\"])\n"
     ]
    }
   ],
   "source": [
    "center_total[\"폐지일자\"] = pd.to_datetime(center_total[\"폐지일자\"])"
   ]
  },
  {
   "cell_type": "code",
   "execution_count": 40,
   "id": "3ab02fd5",
   "metadata": {
    "scrolled": false
   },
   "outputs": [
    {
     "name": "stdout",
     "output_type": "stream",
     "text": [
      "1990년 폐지 수 : 1\n",
      "1991년 폐지 수 : 0\n",
      "1993년 폐지 수 : 1\n",
      "1994년 폐지 수 : 0\n",
      "1995년 폐지 수 : 1\n",
      "1996년 폐지 수 : 7\n",
      "1997년 폐지 수 : 8\n",
      "1998년 폐지 수 : 7\n",
      "1999년 폐지 수 : 19\n",
      "2000년 폐지 수 : 7\n",
      "2001년 폐지 수 : 10\n",
      "2002년 폐지 수 : 10\n",
      "2003년 폐지 수 : 13\n",
      "2004년 폐지 수 : 15\n",
      "2005년 폐지 수 : 7\n",
      "2006년 폐지 수 : 16\n",
      "2007년 폐지 수 : 76\n",
      "2008년 폐지 수 : 329\n",
      "2009년 폐지 수 : 607\n",
      "2010년 폐지 수 : 1573\n",
      "2011년 폐지 수 : 529\n",
      "2012년 폐지 수 : 495\n",
      "2013년 폐지 수 : 682\n",
      "2014년 폐지 수 : 1120\n",
      "2015년 폐지 수 : 1874\n",
      "2016년 폐지 수 : 2248\n",
      "2017년 폐지 수 : 1987\n",
      "2018년 폐지 수 : 2410\n",
      "2019년 폐지 수 : 3170\n",
      "2020년 폐지 수 : 3238\n",
      "2021년 폐지 수 : 2867\n",
      "2022년 폐지 수 : 3041\n",
      "2023년 폐지 수 : 1527\n"
     ]
    }
   ],
   "source": [
    "y = [\"1990\", \"1991\", \"1993\", \"1994\", \"1995\", \"1996\", \"1997\", \"1998\", \"1999\", \n",
    "     \"2000\", \"2001\", \"2002\", \"2003\", \"2004\", \"2005\", \"2006\", \"2007\", \"2008\", \"2009\",\n",
    "     \"2010\", \"2011\", \"2012\", \"2013\", \"2014\", \"2015\", \"2016\", \"2017\", \"2018\", \"2019\",\n",
    "     \"2020\", \"2021\", \"2022\", \"2023\"]\n",
    "\n",
    "\n",
    "for i in range(0, len(y)):\n",
    "    print(f\"{y[i]}년 폐지 수 :\", center_total.loc[center_total[\"폐지일자\"].between(f\"{y[i]}-01-01\", f\"{y[i]}-12-31\")].count()[3])"
   ]
  },
  {
   "cell_type": "code",
   "execution_count": 41,
   "id": "ab584793",
   "metadata": {
    "scrolled": false
   },
   "outputs": [],
   "source": [
    "# y = [\"1990\", \"1991\", \"1993\", \"1994\", \"1995\", \"1996\", \"1997\", \"1998\", \"1999\", \n",
    "#      \"2000\", \"2001\", \"2002\", \"2003\", \"2004\", \"2005\", \"2006\", \"2007\", \"2008\", \"2009\",\n",
    "#      \"2010\", \"2011\", \"2012\", \"2013\", \"2014\", \"2015\", \"2016\", \"2017\", \"2018\", \"2019\",\n",
    "#      \"2020\", \"2021\", \"2022\", \"2023\"]\n",
    "\n",
    "# for i in range(0, len(y)):\n",
    "#     print(f\"{y[i]}\")\n",
    "# for i in range(0, len(y)):    \n",
    "#     print(center_total.loc[center_total[\"폐지일자\"].between(f\"{y[i]}-01-01\", f\"{y[i]}-12-31\")].count()[3])"
   ]
  },
  {
   "cell_type": "code",
   "execution_count": null,
   "id": "ed7f5b0b",
   "metadata": {},
   "outputs": [],
   "source": []
  },
  {
   "cell_type": "code",
   "execution_count": 42,
   "id": "94fdb4fb",
   "metadata": {},
   "outputs": [],
   "source": [
    "uu = pd.read_excel(\"./data/연도별_전국_어린이집폐지.xlsx\")"
   ]
  },
  {
   "cell_type": "code",
   "execution_count": 43,
   "id": "8b9472cc",
   "metadata": {
    "scrolled": true
   },
   "outputs": [],
   "source": [
    "uu1 = uu.set_index(\"연도\")"
   ]
  },
  {
   "cell_type": "code",
   "execution_count": 44,
   "id": "4e2f6ba8",
   "metadata": {},
   "outputs": [
    {
     "data": {
      "text/plain": [
       "Text(33, 1500, '2023 - 1/4')"
      ]
     },
     "execution_count": 44,
     "metadata": {},
     "output_type": "execute_result"
    },
    {
     "data": {
      "text/plain": [
       "<Figure size 2000x1500 with 0 Axes>"
      ]
     },
     "metadata": {},
     "output_type": "display_data"
    },
    {
     "data": {
      "image/png": "[encoded data removed]",
      "text/plain": [
       "<Figure size 640x480 with 1 Axes>"
      ]
     },
     "metadata": {},
     "output_type": "display_data"
    }
   ],
   "source": [
    "plt.figure(figsize = (20, 15))\n",
    "uu1.plot(kind=\"bar\")\n",
    "plt.xticks(rotation = -45)\n",
    "plt.title(\"연도별 전국 어린이집 폐지 수\")\n",
    "plt.text(33,1500, \"2023 - 1/4\")"
   ]
  },
  {
   "cell_type": "code",
   "execution_count": 45,
   "id": "1cdb1934",
   "metadata": {},
   "outputs": [
    {
     "data": {
      "text/plain": [
       "Text(33, 1500, '2023 - 1/4')"
      ]
     },
     "execution_count": 45,
     "metadata": {},
     "output_type": "execute_result"
    },
    {
     "data": {
      "image/png": "[encoded data removed]",
      "text/plain": [
       "<Figure size 1000x800 with 1 Axes>"
      ]
     },
     "metadata": {},
     "output_type": "display_data"
    }
   ],
   "source": [
    "plt.figure(figsize = (10, 8))\n",
    "sns.barplot(x=\"연도\", y=\"폐지수\", data=uu)\n",
    "plt.xticks(rotation = -45)\n",
    "plt.title(\"연도별 전국 어린이집 폐지 수\")\n",
    "plt.text(33,1500, \"2023 - 1/4\")"
   ]
  },
  {
   "cell_type": "code",
   "execution_count": null,
   "id": "ad5202ca",
   "metadata": {},
   "outputs": [],
   "source": []
  },
  {
   "cell_type": "code",
   "execution_count": null,
   "id": "680b901b",
   "metadata": {},
   "outputs": [],
   "source": []
  }
 ],
 "metadata": {
  "kernelspec": {
   "display_name": "Python 3 (ipykernel)",
   "language": "python",
   "name": "python3"
  },
  "language_info": {
   "codemirror_mode": {
    "name": "ipython",
    "version": 3
   },
   "file_extension": ".py",
   "mimetype": "text/x-python",
   "name": "python",
   "nbconvert_exporter": "python",
   "pygments_lexer": "ipython3",
   "version": "3.9.13"
  }
 },
 "nbformat": 4,
 "nbformat_minor": 5
}
